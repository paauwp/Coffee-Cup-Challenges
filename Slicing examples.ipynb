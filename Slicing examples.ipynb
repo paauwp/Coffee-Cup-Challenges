{
 "cells": [
  {
   "cell_type": "markdown",
   "metadata": {},
   "source": [
    "Slicing\n",
    "Examples\n",
    "String[3:] will give all characters up to 3 but not including (this is from position 4 and further)\n",
    "String[:3] will give all characters from position 4 and back\n",
    "String[3:5] will give index 3 up to index 5\n",
    "String[::2] will give the whole string with steps of 2\n",
    "A trick to reverse a string is slice string[::-1]"
   ]
  },
  {
   "cell_type": "code",
   "execution_count": 9,
   "metadata": {},
   "outputs": [
    {
     "name": "stdout",
     "output_type": "stream",
     "text": [
      "ter\n",
      "Pie\n",
      "te\n",
      "Pee\n",
      "reteiP\n",
      "itr\n"
     ]
    }
   ],
   "source": [
    "my_string = 'Pieter'\n",
    "print(my_string[3:]) #ter\n",
    "print(my_string[:3]) #Pie\n",
    "print(my_string[3:5]) #te\n",
    "print(my_string[::2]) # Pee\n",
    "print(my_string[::-1]) # reverse the sting\n",
    "print(my_string[1::2]) #itr"
   ]
  },
  {
   "cell_type": "code",
   "execution_count": null,
   "metadata": {},
   "outputs": [],
   "source": []
  }
 ],
 "metadata": {
  "kernelspec": {
   "display_name": "Python 3",
   "language": "python",
   "name": "python3"
  },
  "language_info": {
   "codemirror_mode": {
    "name": "ipython",
    "version": 3
   },
   "file_extension": ".py",
   "mimetype": "text/x-python",
   "name": "python",
   "nbconvert_exporter": "python",
   "pygments_lexer": "ipython3",
   "version": "3.7.1"
  }
 },
 "nbformat": 4,
 "nbformat_minor": 2
}
